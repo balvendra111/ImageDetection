{
  "cells": [
    {
      "cell_type": "markdown",
      "metadata": {
        "colab_type": "text",
        "id": "view-in-github"
      },
      "source": [
        "<a href=\"https://colab.research.google.com/github/FatemeZamanian/Yolov5-Fruit-Detector/blob/master/YoloToONNX.ipynb\" target=\"_parent\"><img src=\"https://colab.research.google.com/assets/colab-badge.svg\" alt=\"Open In Colab\"/></a>"
      ]
    },
    {
      "cell_type": "code",
      "execution_count": 1,
      "metadata": {
        "id": "y93tmTdb_Ot4"
      },
      "outputs": [
        {
          "name": "stdout",
          "output_type": "stream",
          "text": [
            "Cloning into 'yolov5'...\n",
            "remote: Enumerating objects: 16000, done.\u001b[K\n",
            "remote: Counting objects: 100% (169/169), done.\u001b[K\n",
            "remote: Compressing objects: 100% (100/100), done.\u001b[K\n",
            "remote: Total 16000 (delta 104), reused 110 (delta 69), pack-reused 15831\u001b[K\n",
            "Receiving objects: 100% (16000/16000), 14.64 MiB | 5.30 MiB/s, done.\n",
            "Resolving deltas: 100% (10977/10977), done.\n"
          ]
        }
      ],
      "source": [
        "!git clone https://github.com/ultralytics/yolov5  # clone"
      ]
    },
    {
      "cell_type": "code",
      "execution_count": 2,
      "metadata": {
        "id": "b8IOBKLQAFpG"
      },
      "outputs": [
        {
          "name": "stdout",
          "output_type": "stream",
          "text": [
            "/Users/bsingh/Downloads/Yolov5-Fruit-Detector-master/yolov5\n"
          ]
        }
      ],
      "source": [
        "%cd yolov5"
      ]
    },
    {
      "cell_type": "code",
      "execution_count": 3,
      "metadata": {
        "id": "Nygf-mnfAAU2"
      },
      "outputs": [
        {
          "name": "stdout",
          "output_type": "stream",
          "text": [
            "Requirement already satisfied: gitpython>=3.1.30 in /Users/bsingh/anaconda3/envs/Bsingh/lib/python3.9/site-packages (from -r requirements.txt (line 5)) (3.1.31)\n",
            "Requirement already satisfied: matplotlib>=3.3 in /Users/bsingh/anaconda3/envs/Bsingh/lib/python3.9/site-packages (from -r requirements.txt (line 6)) (3.7.1)\n",
            "Requirement already satisfied: numpy>=1.18.5 in /Users/bsingh/anaconda3/envs/Bsingh/lib/python3.9/site-packages (from -r requirements.txt (line 7)) (1.23.5)\n",
            "Requirement already satisfied: opencv-python>=4.1.1 in /Users/bsingh/anaconda3/envs/Bsingh/lib/python3.9/site-packages (from -r requirements.txt (line 8)) (4.7.0.72)\n",
            "Requirement already satisfied: Pillow>=7.1.2 in /Users/bsingh/anaconda3/envs/Bsingh/lib/python3.9/site-packages (from -r requirements.txt (line 9)) (9.5.0)\n",
            "Requirement already satisfied: psutil in /Users/bsingh/anaconda3/envs/Bsingh/lib/python3.9/site-packages (from -r requirements.txt (line 10)) (5.9.4)\n",
            "Requirement already satisfied: PyYAML>=5.3.1 in /Users/bsingh/anaconda3/envs/Bsingh/lib/python3.9/site-packages (from -r requirements.txt (line 11)) (6.0)\n",
            "Requirement already satisfied: requests>=2.23.0 in /Users/bsingh/anaconda3/envs/Bsingh/lib/python3.9/site-packages (from -r requirements.txt (line 12)) (2.28.2)\n",
            "Requirement already satisfied: scipy>=1.4.1 in /Users/bsingh/anaconda3/envs/Bsingh/lib/python3.9/site-packages (from -r requirements.txt (line 13)) (1.10.1)\n",
            "Requirement already satisfied: thop>=0.1.1 in /Users/bsingh/anaconda3/envs/Bsingh/lib/python3.9/site-packages (from -r requirements.txt (line 14)) (0.1.1.post2209072238)\n",
            "Requirement already satisfied: torch>=1.7.0 in /Users/bsingh/anaconda3/envs/Bsingh/lib/python3.9/site-packages (from -r requirements.txt (line 15)) (1.8.0)\n",
            "Requirement already satisfied: torchvision>=0.8.1 in /Users/bsingh/anaconda3/envs/Bsingh/lib/python3.9/site-packages (from -r requirements.txt (line 16)) (0.9.0)\n",
            "Requirement already satisfied: tqdm>=4.64.0 in /Users/bsingh/anaconda3/envs/Bsingh/lib/python3.9/site-packages (from -r requirements.txt (line 17)) (4.65.0)\n",
            "Requirement already satisfied: ultralytics>=8.0.111 in /Users/bsingh/anaconda3/envs/Bsingh/lib/python3.9/site-packages (from -r requirements.txt (line 18)) (8.0.121)\n",
            "Requirement already satisfied: pandas>=1.1.4 in /Users/bsingh/anaconda3/envs/Bsingh/lib/python3.9/site-packages (from -r requirements.txt (line 27)) (2.0.2)\n",
            "Requirement already satisfied: seaborn>=0.11.0 in /Users/bsingh/anaconda3/envs/Bsingh/lib/python3.9/site-packages (from -r requirements.txt (line 28)) (0.12.2)\n",
            "Requirement already satisfied: setuptools>=65.5.1 in /Users/bsingh/anaconda3/envs/Bsingh/lib/python3.9/site-packages (from -r requirements.txt (line 42)) (67.6.1)\n",
            "Requirement already satisfied: gitdb<5,>=4.0.1 in /Users/bsingh/anaconda3/envs/Bsingh/lib/python3.9/site-packages (from gitpython>=3.1.30->-r requirements.txt (line 5)) (4.0.10)\n",
            "Requirement already satisfied: pyparsing>=2.3.1 in /Users/bsingh/anaconda3/envs/Bsingh/lib/python3.9/site-packages (from matplotlib>=3.3->-r requirements.txt (line 6)) (3.0.9)\n",
            "Requirement already satisfied: importlib-resources>=3.2.0 in /Users/bsingh/anaconda3/envs/Bsingh/lib/python3.9/site-packages (from matplotlib>=3.3->-r requirements.txt (line 6)) (5.12.0)\n",
            "Requirement already satisfied: packaging>=20.0 in /Users/bsingh/anaconda3/envs/Bsingh/lib/python3.9/site-packages (from matplotlib>=3.3->-r requirements.txt (line 6)) (23.0)\n",
            "Requirement already satisfied: fonttools>=4.22.0 in /Users/bsingh/anaconda3/envs/Bsingh/lib/python3.9/site-packages (from matplotlib>=3.3->-r requirements.txt (line 6)) (4.39.4)\n",
            "Requirement already satisfied: contourpy>=1.0.1 in /Users/bsingh/anaconda3/envs/Bsingh/lib/python3.9/site-packages (from matplotlib>=3.3->-r requirements.txt (line 6)) (1.0.7)\n",
            "Requirement already satisfied: python-dateutil>=2.7 in /Users/bsingh/anaconda3/envs/Bsingh/lib/python3.9/site-packages (from matplotlib>=3.3->-r requirements.txt (line 6)) (2.8.2)\n",
            "Requirement already satisfied: cycler>=0.10 in /Users/bsingh/anaconda3/envs/Bsingh/lib/python3.9/site-packages (from matplotlib>=3.3->-r requirements.txt (line 6)) (0.11.0)\n",
            "Requirement already satisfied: kiwisolver>=1.0.1 in /Users/bsingh/anaconda3/envs/Bsingh/lib/python3.9/site-packages (from matplotlib>=3.3->-r requirements.txt (line 6)) (1.4.4)\n",
            "Requirement already satisfied: urllib3<1.27,>=1.21.1 in /Users/bsingh/anaconda3/envs/Bsingh/lib/python3.9/site-packages (from requests>=2.23.0->-r requirements.txt (line 12)) (1.26.15)\n",
            "Requirement already satisfied: charset-normalizer<4,>=2 in /Users/bsingh/anaconda3/envs/Bsingh/lib/python3.9/site-packages (from requests>=2.23.0->-r requirements.txt (line 12)) (2.1.1)\n",
            "Requirement already satisfied: idna<4,>=2.5 in /Users/bsingh/anaconda3/envs/Bsingh/lib/python3.9/site-packages (from requests>=2.23.0->-r requirements.txt (line 12)) (3.4)\n",
            "Requirement already satisfied: certifi>=2017.4.17 in /Users/bsingh/anaconda3/envs/Bsingh/lib/python3.9/site-packages (from requests>=2.23.0->-r requirements.txt (line 12)) (2023.5.7)\n",
            "Requirement already satisfied: typing-extensions in /Users/bsingh/anaconda3/envs/Bsingh/lib/python3.9/site-packages (from torch>=1.7.0->-r requirements.txt (line 15)) (4.5.0)\n",
            "Requirement already satisfied: pytz>=2020.1 in /Users/bsingh/anaconda3/envs/Bsingh/lib/python3.9/site-packages (from pandas>=1.1.4->-r requirements.txt (line 27)) (2023.3)\n",
            "Requirement already satisfied: tzdata>=2022.1 in /Users/bsingh/anaconda3/envs/Bsingh/lib/python3.9/site-packages (from pandas>=1.1.4->-r requirements.txt (line 27)) (2023.3)\n",
            "Requirement already satisfied: smmap<6,>=3.0.1 in /Users/bsingh/anaconda3/envs/Bsingh/lib/python3.9/site-packages (from gitdb<5,>=4.0.1->gitpython>=3.1.30->-r requirements.txt (line 5)) (5.0.0)\n",
            "Requirement already satisfied: zipp>=3.1.0 in /Users/bsingh/anaconda3/envs/Bsingh/lib/python3.9/site-packages (from importlib-resources>=3.2.0->matplotlib>=3.3->-r requirements.txt (line 6)) (3.15.0)\n",
            "Requirement already satisfied: six>=1.5 in /Users/bsingh/anaconda3/envs/Bsingh/lib/python3.9/site-packages (from python-dateutil>=2.7->matplotlib>=3.3->-r requirements.txt (line 6)) (1.16.0)\n"
          ]
        }
      ],
      "source": [
        "!pip install -r requirements.txt  # install"
      ]
    },
    {
      "cell_type": "markdown",
      "metadata": {
        "id": "oT6osPV0WRRz"
      },
      "source": [
        "Download weights...."
      ]
    },
    {
      "cell_type": "code",
      "execution_count": 4,
      "metadata": {
        "id": "-r8whxDeKQ3K"
      },
      "outputs": [
        {
          "ename": "ModuleNotFoundError",
          "evalue": "No module named 'google.colab'",
          "output_type": "error",
          "traceback": [
            "\u001b[0;31m---------------------------------------------------------------------------\u001b[0m",
            "\u001b[0;31mModuleNotFoundError\u001b[0m                       Traceback (most recent call last)",
            "Cell \u001b[0;32mIn[4], line 4\u001b[0m\n\u001b[1;32m      2\u001b[0m \u001b[39mfrom\u001b[39;00m \u001b[39mpydrive\u001b[39;00m\u001b[39m.\u001b[39;00m\u001b[39mauth\u001b[39;00m \u001b[39mimport\u001b[39;00m GoogleAuth\n\u001b[1;32m      3\u001b[0m \u001b[39mfrom\u001b[39;00m \u001b[39mpydrive\u001b[39;00m\u001b[39m.\u001b[39;00m\u001b[39mdrive\u001b[39;00m \u001b[39mimport\u001b[39;00m GoogleDrive\n\u001b[0;32m----> 4\u001b[0m \u001b[39mfrom\u001b[39;00m \u001b[39mgoogle\u001b[39;00m\u001b[39m.\u001b[39;00m\u001b[39mcolab\u001b[39;00m \u001b[39mimport\u001b[39;00m auth\n\u001b[1;32m      5\u001b[0m \u001b[39mfrom\u001b[39;00m \u001b[39moauth2client\u001b[39;00m\u001b[39m.\u001b[39;00m\u001b[39mclient\u001b[39;00m \u001b[39mimport\u001b[39;00m GoogleCredentials\n\u001b[1;32m      7\u001b[0m \u001b[39m# Authenticate and create the PyDrive client.\u001b[39;00m\n",
            "\u001b[0;31mModuleNotFoundError\u001b[0m: No module named 'google.colab'"
          ]
        }
      ],
      "source": [
        "# Install the PyDrive wrapper & import libraries.\n",
        "from pydrive.auth import GoogleAuth\n",
        "from pydrive.drive import GoogleDrive\n",
        "from google.colab import auth\n",
        "from oauth2client.client import GoogleCredentials\n",
        "\n",
        "# Authenticate and create the PyDrive client.\n",
        "auth.authenticate_user()\n",
        "gauth = GoogleAuth()\n",
        "gauth.credentials = GoogleCredentials.get_application_default()\n",
        "drive = GoogleDrive(gauth)\n",
        "\n",
        "file_id = '1W6qZeutnqnp3YX9w4iYgR44xsoi_64ff'\n",
        "downloaded = drive.CreateFile({'id':file_id})\n",
        "downloaded.FetchMetadata(fetch_all=True)\n",
        "downloaded.GetContentFile(downloaded.metadata['title'])"
      ]
    },
    {
      "cell_type": "code",
      "execution_count": 5,
      "metadata": {
        "id": "UhAYLIC5aJ2S"
      },
      "outputs": [
        {
          "name": "stdout",
          "output_type": "stream",
          "text": [
            "\u001b[34m\u001b[1mexport: \u001b[0mdata=data/coco128.yaml, weights=['Fruits.pt'], imgsz=[640, 640], batch_size=1, device=cpu, half=False, inplace=False, keras=False, optimize=False, int8=False, dynamic=False, simplify=False, opset=17, verbose=False, workspace=4, nms=False, agnostic_nms=False, topk_per_class=100, topk_all=100, iou_thres=0.45, conf_thres=0.25, include=['onnx']\n",
            "YOLOv5 🚀 v7.0-186-g0acc5cf Python-3.9.16 torch-1.8.0 CPU\n",
            "\n",
            "Traceback (most recent call last):\n",
            "  File \"/Users/bsingh/Downloads/Yolov5-Fruit-Detector-master/yolov5/export.py\", line 863, in <module>\n",
            "    main(opt)\n",
            "  File \"/Users/bsingh/Downloads/Yolov5-Fruit-Detector-master/yolov5/export.py\", line 858, in main\n",
            "    run(**vars(opt))\n",
            "  File \"/Users/bsingh/anaconda3/envs/bsingh/lib/python3.9/site-packages/torch/autograd/grad_mode.py\", line 27, in decorate_context\n",
            "    return func(*args, **kwargs)\n",
            "  File \"/Users/bsingh/Downloads/Yolov5-Fruit-Detector-master/yolov5/export.py\", line 736, in run\n",
            "    model = attempt_load(weights, device=device, inplace=True, fuse=True)  # load FP32 model\n",
            "  File \"/Users/bsingh/Downloads/Yolov5-Fruit-Detector-master/yolov5/models/experimental.py\", line 79, in attempt_load\n",
            "    ckpt = torch.load(attempt_download(w), map_location='cpu')  # load\n",
            "  File \"/Users/bsingh/anaconda3/envs/bsingh/lib/python3.9/site-packages/torch/serialization.py\", line 579, in load\n",
            "    with _open_file_like(f, 'rb') as opened_file:\n",
            "  File \"/Users/bsingh/anaconda3/envs/bsingh/lib/python3.9/site-packages/torch/serialization.py\", line 230, in _open_file_like\n",
            "    return _open_file(name_or_buffer, mode)\n",
            "  File \"/Users/bsingh/anaconda3/envs/bsingh/lib/python3.9/site-packages/torch/serialization.py\", line 211, in __init__\n",
            "    super(_open_file, self).__init__(open(name, mode))\n",
            "FileNotFoundError: [Errno 2] No such file or directory: 'Fruits.pt'\n"
          ]
        }
      ],
      "source": [
        "!python export.py --weights Fruits.pt  --include onnx"
      ]
    },
    {
      "cell_type": "code",
      "execution_count": 6,
      "metadata": {
        "colab": {
          "base_uri": "https://localhost:8080/"
        },
        "id": "Cy3UyKmCgA8K",
        "outputId": "bfa0db2b-3e52-43b8-f79e-791ac6c01bab"
      },
      "outputs": [
        {
          "name": "stdout",
          "output_type": "stream",
          "text": [
            "/content\n"
          ]
        }
      ],
      "source": [
        "%cd .."
      ]
    },
    {
      "cell_type": "code",
      "execution_count": null,
      "metadata": {
        "id": "AxAWsmDlffje"
      },
      "outputs": [],
      "source": [
        "!python yolov5/detect.py --weights yolov5/Fruits.onnx --source test.png"
      ]
    },
    {
      "cell_type": "code",
      "execution_count": null,
      "metadata": {
        "id": "ppbTDzLxc1ja"
      },
      "outputs": [],
      "source": [
        "!python yolov5/val.py --data Fruits.yaml  --weights yolov5/Fruits.onnx"
      ]
    }
  ],
  "metadata": {
    "accelerator": "GPU",
    "colab": {
      "authorship_tag": "ABX9TyPt1sJ6FLSYhMElCsFDu6ac",
      "collapsed_sections": [],
      "include_colab_link": true,
      "mount_file_id": "1HeLf3wvHgFGA_I-LPgThuZEgWUpsOlNG",
      "provenance": []
    },
    "gpuClass": "standard",
    "kernelspec": {
      "display_name": "Python 3",
      "name": "python3"
    },
    "language_info": {
      "codemirror_mode": {
        "name": "ipython",
        "version": 3
      },
      "file_extension": ".py",
      "mimetype": "text/x-python",
      "name": "python",
      "nbconvert_exporter": "python",
      "pygments_lexer": "ipython3",
      "version": "3.9.16"
    }
  },
  "nbformat": 4,
  "nbformat_minor": 0
}
